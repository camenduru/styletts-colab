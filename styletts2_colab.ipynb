{
  "cells": [
    {
      "cell_type": "markdown",
      "metadata": {
        "id": "view-in-github"
      },
      "source": [
        "[![Open In Colab](https://colab.research.google.com/assets/colab-badge.svg)](https://colab.research.google.com/github/camenduru/styletts-colab/blob/main/styletts2_colab.ipynb)"
      ]
    },
    {
      "cell_type": "code",
      "execution_count": null,
      "metadata": {
        "id": "VjYy0F2gZIPR"
      },
      "outputs": [],
      "source": [
        "%cd /content\n",
        "!git clone -b dev https://github.com/camenduru/styletts2-hf\n",
        "%cd /content/styletts2-hf\n",
        "\n",
        "!pip install -q gradio cached-path munch einops einops-exts phonemizer tortoise-tts\n",
        "!pip install -q git+https://github.com/resemble-ai/monotonic_align\n",
        "\n",
        "!apt -y install -qq aria2 espeak-ng\n",
        "!aria2c --console-log-level=error -c -x 16 -s 16 -k 1M https://huggingface.co/spaces/styletts2/styletts2/resolve/main/voices/f-us-1.wav?download=true -d /content/styletts2-hf/voices -o f-us-1.wav\n",
        "!aria2c --console-log-level=error -c -x 16 -s 16 -k 1M https://huggingface.co/spaces/styletts2/styletts2/resolve/main/voices/f-us-2.wav?download=true -d /content/styletts2-hf/voices -o f-us-2.wav\n",
        "!aria2c --console-log-level=error -c -x 16 -s 16 -k 1M https://huggingface.co/spaces/styletts2/styletts2/resolve/main/voices/f-us-3.wav?download=true -d /content/styletts2-hf/voices -o f-us-3.wav\n",
        "!aria2c --console-log-level=error -c -x 16 -s 16 -k 1M https://huggingface.co/spaces/styletts2/styletts2/resolve/main/voices/f-us-4.wav?download=true -d /content/styletts2-hf/voices -o f-us-4.wav\n",
        "!aria2c --console-log-level=error -c -x 16 -s 16 -k 1M https://huggingface.co/spaces/styletts2/styletts2/resolve/main/voices/m-us-1.wav?download=true -d /content/styletts2-hf/voices -o m-us-1.wav\n",
        "!aria2c --console-log-level=error -c -x 16 -s 16 -k 1M https://huggingface.co/spaces/styletts2/styletts2/resolve/main/voices/m-us-2.wav?download=true -d /content/styletts2-hf/voices -o m-us-2.wav\n",
        "!aria2c --console-log-level=error -c -x 16 -s 16 -k 1M https://huggingface.co/spaces/styletts2/styletts2/resolve/main/voices/m-us-3.wav?download=true -d /content/styletts2-hf/voices -o m-us-3.wav\n",
        "!aria2c --console-log-level=error -c -x 16 -s 16 -k 1M https://huggingface.co/spaces/styletts2/styletts2/resolve/main/voices/m-us-4.wav?download=true -d /content/styletts2-hf/voices -o m-us-4.wav\n",
        "!aria2c --console-log-level=error -c -x 16 -s 16 -k 1M https://huggingface.co/spaces/styletts2/styletts2/resolve/main/voices.pkl?download=true -d /content/styletts2-hf -o voices.pkl\n",
        "!aria2c --console-log-level=error -c -x 16 -s 16 -k 1M https://huggingface.co/spaces/styletts2/styletts2/resolve/main/Utils/PLBERT/step_1000000.t7?download=true -d /content/styletts2-hf/Utils/PLBERT -o step_1000000.t7\n",
        "!aria2c --console-log-level=error -c -x 16 -s 16 -k 1M https://huggingface.co/spaces/styletts2/styletts2/resolve/main/Utils/JDC/bst.t7?download=true -d /content/styletts2-hf/Utils/JDC -o bst.t7\n",
        "!aria2c --console-log-level=error -c -x 16 -s 16 -k 1M https://huggingface.co/spaces/styletts2/styletts2/resolve/main/Utils/ASR/epoch_00080.pth?download=true -d /content/styletts2-hf/Utils/ASR -o epoch_00080.pth\n",
        "!aria2c --console-log-level=error -c -x 16 -s 16 -k 1M https://huggingface.co/spaces/styletts2/styletts2/resolve/main/reference_audio.zip?download=true -d /content/styletts2-hf -o reference_audio.zip\n",
        "!aria2c --console-log-level=error -c -x 16 -s 16 -k 1M https://huggingface.co/spaces/styletts2/styletts2/resolve/main/Data/OOD_texts.txt?download=true -d /content/styletts2-hf/Data -o OOD_texts.txt\n",
        "\n",
        "!python app.py"
      ]
    }
  ],
  "metadata": {
    "accelerator": "GPU",
    "colab": {
      "gpuType": "T4",
      "provenance": []
    },
    "kernelspec": {
      "display_name": "Python 3",
      "name": "python3"
    },
    "language_info": {
      "name": "python"
    }
  },
  "nbformat": 4,
  "nbformat_minor": 0
}
