{
  "cells": [
    {
      "cell_type": "markdown",
      "metadata": {
        "id": "view-in-github"
      },
      "source": [
        "[![Open In Colab](https://colab.research.google.com/assets/colab-badge.svg)](https://colab.research.google.com/github/camenduru/styletts-colab/blob/main/styletts2_train_colab.ipynb)"
      ]
    },
    {
      "cell_type": "code",
      "execution_count": null,
      "metadata": {
        "id": "VjYy0F2gZIPR"
      },
      "outputs": [],
      "source": [
        "%cd /content\n",
        "!apt install -y espeak-ng aria2 -y\n",
        "!git clone https://dagshub.com/StyleTTS/StyleTTS2\n",
        "%cd /content/StyleTTS2\n",
        "\n",
        "!pip install -q SoundFile torchaudio munch torch pydub pyyaml librosa matplotlib accelerate transformers phonemizer einops wandb\n",
        "!pip install -q gruut accelerate mlflow einops-exts tqdm typing-extensions git+https://github.com/resemble-ai/monotonic_align.git\n",
        "!pip install -q nltk -U\n",
        "    \n",
        "!aria2c --console-log-level=error -c -x 16 -s 16 -k 1M https://dagshub.com/audio/StyleTTS2-LibriTTS/raw/adedc90b53fb0676f83d4c9f1e01f1e8650ba15d/data/Models/LibriTTS/epochs_2nd_00020.pth -d /content/StyleTTS2/Models/LibriTTS -o epochs_2nd_00020.pth\n",
        "!aria2c --console-log-level=error -c -x 16 -s 16 -k 1M https://dagshub.com/audio/StyleTTS2-LibriTTS/raw/adedc90b53fb0676f83d4c9f1e01f1e8650ba15d/data/Models/LibriTTS/config.yml -d /content/StyleTTS2/Models/LibriTTS -o config.yml\n",
        "# !aria2c --console-log-level=error -c -x 16 -s 16 -k 1M https://dagshub.com/audio/StyleTTS2-LibriTTS/raw/20b8b78c7e27b46d8525f3b1bb0d2725a12a56ff/data/Data.zip -d /content/StyleTTS2 -o Data.zip\n",
        "!aria2c --console-log-level=error -c -x 16 -s 16 -k 1M https://dagshub.com/audio/wavlm-base-plus/raw/624830cf7f4bc949d33bf94fa45895037e78c693/data/config.json -d /content/StyleTTS2/wavlm-base-plus -o config.json\n",
        "!aria2c --console-log-level=error -c -x 16 -s 16 -k 1M https://dagshub.com/audio/wavlm-base-plus/raw/624830cf7f4bc949d33bf94fa45895037e78c693/data/preprocessor_config.json -d /content/StyleTTS2/wavlm-base-plus -o preprocessor_config.json\n",
        "!aria2c --console-log-level=error -c -x 16 -s 16 -k 1M https://dagshub.com/audio/wavlm-base-plus/raw/624830cf7f4bc949d33bf94fa45895037e78c693/data/pytorch_model.bin -d /content/StyleTTS2/wavlm-base-plus -o pytorch_model.bin\n",
        "# !unzip -o Data.zip\n",
        "\n",
        "!rm -rf /content/StyleTTS2/Data\n",
        "!mkdir -p /content/StyleTTS2/Data/wavs\n",
        "!wget https://dagshub.com/StyleTTS/Data/raw/b1eedf16d1f162b3081c0f10c6fba11a8420cb26/data/wavs/0_0.wav -O /content/StyleTTS2/Data/wavs/0_0.wav\n",
        "!wget https://dagshub.com/StyleTTS/Data/raw/b1eedf16d1f162b3081c0f10c6fba11a8420cb26/data/wavs/0_1.wav -O /content/StyleTTS2/Data/wavs/0_1.wav\n",
        "!wget https://dagshub.com/StyleTTS/Data/raw/b1eedf16d1f162b3081c0f10c6fba11a8420cb26/data/wavs/0_2.wav -O /content/StyleTTS2/Data/wavs/0_2.wav\n",
        "!wget https://dagshub.com/StyleTTS/Data/raw/b1eedf16d1f162b3081c0f10c6fba11a8420cb26/data/wavs/0_3.wav -O /content/StyleTTS2/Data/wavs/0_3.wav\n",
        "!wget https://dagshub.com/StyleTTS/Data/raw/b1eedf16d1f162b3081c0f10c6fba11a8420cb26/data/wavs/0_4.wav -O /content/StyleTTS2/Data/wavs/0_4.wav\n",
        "!wget https://dagshub.com/StyleTTS/Data/raw/b1eedf16d1f162b3081c0f10c6fba11a8420cb26/data/wavs/0_5.wav -O /content/StyleTTS2/Data/wavs/0_5.wav\n",
        "!wget https://dagshub.com/StyleTTS/Data/raw/b1eedf16d1f162b3081c0f10c6fba11a8420cb26/data/wavs/0_6.wav -O /content/StyleTTS2/Data/wavs/0_6.wav\n",
        "!wget https://dagshub.com/StyleTTS/Data/raw/b1eedf16d1f162b3081c0f10c6fba11a8420cb26/data/wavs/0_7.wav -O /content/StyleTTS2/Data/wavs/0_7.wav\n",
        "!wget https://dagshub.com/StyleTTS/Data/raw/b1eedf16d1f162b3081c0f10c6fba11a8420cb26/data/wavs/0_8.wav -O /content/StyleTTS2/Data/wavs/0_8.wav\n",
        "!wget https://dagshub.com/StyleTTS/Data/raw/b1eedf16d1f162b3081c0f10c6fba11a8420cb26/data/wavs/0_9.wav -O /content/StyleTTS2/Data/wavs/0_9.wav\n",
        "!wget https://dagshub.com/StyleTTS/Data/raw/b1eedf16d1f162b3081c0f10c6fba11a8420cb26/data/wavs/0_10.wav -O /content/StyleTTS2/Data/wavs/0_10.wav\n",
        "!wget https://dagshub.com/StyleTTS/Data/raw/b1eedf16d1f162b3081c0f10c6fba11a8420cb26/data/wavs/0_11.wav -O /content/StyleTTS2/Data/wavs/0_11.wav\n",
        "!wget https://dagshub.com/StyleTTS/Data/raw/b1eedf16d1f162b3081c0f10c6fba11a8420cb26/data/wavs/0_12.wav -O /content/StyleTTS2/Data/wavs/0_12.wav\n",
        "!wget https://dagshub.com/StyleTTS/Data/raw/b1eedf16d1f162b3081c0f10c6fba11a8420cb26/data/wavs/0_13.wav -O /content/StyleTTS2/Data/wavs/0_13.wav\n",
        "!wget https://dagshub.com/StyleTTS/Data/raw/b1eedf16d1f162b3081c0f10c6fba11a8420cb26/data/wavs/0_14.wav -O /content/StyleTTS2/Data/wavs/0_14.wav\n",
        "!wget https://dagshub.com/StyleTTS/Data/raw/b1eedf16d1f162b3081c0f10c6fba11a8420cb26/data/wavs/0_15.wav -O /content/StyleTTS2/Data/wavs/0_15.wav\n",
        "!wget https://dagshub.com/StyleTTS/Data/raw/b1eedf16d1f162b3081c0f10c6fba11a8420cb26/data/wavs/0_16.wav -O /content/StyleTTS2/Data/wavs/0_16.wav\n",
        "!wget https://dagshub.com/StyleTTS/Data/raw/b1eedf16d1f162b3081c0f10c6fba11a8420cb26/data/wavs/0_17.wav -O /content/StyleTTS2/Data/wavs/0_17.wav\n",
        "!wget https://dagshub.com/StyleTTS/Data/raw/b1eedf16d1f162b3081c0f10c6fba11a8420cb26/data/wavs/0_18.wav -O /content/StyleTTS2/Data/wavs/0_18.wav\n",
        "!wget https://dagshub.com/StyleTTS/Data/raw/b1eedf16d1f162b3081c0f10c6fba11a8420cb26/data/wavs/0_19.wav -O /content/StyleTTS2/Data/wavs/0_19.wav\n",
        "!wget https://gist.github.com/camenduru/aea7c0f76cfe3ed79c521c27374f613d/raw/958d6e0035d89896d2f6c35d500d870b66075005/gistfile1.txt -O /content/StyleTTS2/Data/OOD_texts.txt\n",
        "!wget https://gist.github.com/camenduru/aea7c0f76cfe3ed79c521c27374f613d/raw/958d6e0035d89896d2f6c35d500d870b66075005/gistfile1.txt -O /content/StyleTTS2/Data/train_list.txt\n",
        "!wget https://gist.github.com/camenduru/aea7c0f76cfe3ed79c521c27374f613d/raw/958d6e0035d89896d2f6c35d500d870b66075005/gistfile1.txt -O /content/StyleTTS2/Data/val_list.txt"
      ]
    },
    {
      "cell_type": "code",
      "execution_count": null,
      "metadata": {},
      "outputs": [],
      "source": [
        "%cd /content/StyleTTS2\n",
        "\n",
        "config_path = \"Configs/config_ft.yml\"\n",
        "import yaml\n",
        "config = yaml.safe_load(open(config_path))\n",
        "config['data_params']['OOD_data'] = \"Data/OOD_texts.txt\"\n",
        "config['data_params']['root_path'] = \"Data/wavs/\"\n",
        "config['data_params']['train_data'] = \"Data/train_list.txt\"\n",
        "config['data_params']['val_data'] = \"Data/val_list.txt\"\n",
        "config['batch_size'] = 2 # not enough RAM\n",
        "config['max_len'] = 100 # not enough RAM\n",
        "config['loss_params']['joint_epoch'] = 150 # we do not do SLM adversarial training due to not enough RAM\n",
        "config['save_freq'] = 1\n",
        "config['data_params']['logger'] = \"mlflow\"\n",
        "\n",
        "with open(config_path, 'w') as outfile:\n",
        "  yaml.dump(config, outfile, default_flow_style=True)\n",
        "\n",
        "import os\n",
        "os.environ['MLFLOW_TRACKING_URI'] = 'MLFLOW_TRACKING_URI'\n",
        "os.environ['MLFLOW_TRACKING_USERNAME'] = 'MLFLOW_TRACKING_USERNAME'\n",
        "os.environ['MLFLOW_TRACKING_PASSWORD'] = 'MLFLOW_TRACKING_PASSWORD'\n",
        "\n",
        "!cat Configs/config_ft.yml"
      ]
    },
    {
      "cell_type": "code",
      "execution_count": null,
      "metadata": {},
      "outputs": [],
      "source": [
        "%cd /content/StyleTTS2\n",
        "# !accelerate launch --mixed_precision=fp16 --multi_gpu train_finetune_accelerate.py --config_path ./Configs/config_ft.yml\n",
        "!python train_finetune.py --config_path ./Configs/config_ft.yml"
      ]
    }
  ],
  "metadata": {
    "accelerator": "GPU",
    "colab": {
      "gpuType": "T4",
      "provenance": []
    },
    "kernelspec": {
      "display_name": "Python 3",
      "name": "python3"
    },
    "language_info": {
      "name": "python"
    }
  },
  "nbformat": 4,
  "nbformat_minor": 0
}
